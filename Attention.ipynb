{
 "cells": [
  {
   "cell_type": "code",
   "execution_count": 1,
   "id": "a8e6f4b2-5bca-4fd5-b3e9-330f1fb7184c",
   "metadata": {},
   "outputs": [],
   "source": [
    "import torch\n",
    "import torch.nn as nn\n",
    "import torch.nn.functional as F\n",
    "import torch.optim as optim\n",
    "import math\n",
    "import numpy as np"
   ]
  },
  {
   "cell_type": "code",
   "execution_count": 2,
   "id": "bc4104ef-e588-4e78-ab9b-a00b82a76112",
   "metadata": {},
   "outputs": [],
   "source": [
    "class ScaledDotProdAttention(nn.Module):\n",
    "    def __init__(self, dropout = 0.1):\n",
    "        super(ScaledDotProdAttention, self).__init__()\n",
    "\n",
    "        self.dropout = dropout\n",
    "\n",
    "    def forward(self, query, key, value, mask = None):\n",
    "\n",
    "        attention_scores = torch.matmul(query, key.transpose(-2, -1)) / np.sqrt(query.size(-1))\n",
    "\n",
    "        if mask is not None:\n",
    "            attention_scores = attention_scores.masked_fill(mask == 0, -1e10)\n",
    "\n",
    "        attention = F.softmax(attention_scores, dim = -1)\n",
    "        attention = self.dropout(attention)\n",
    "\n",
    "        return torch.matmul(attention, value), attention"
   ]
  },
  {
   "cell_type": "code",
   "execution_count": 3,
   "id": "27603f44-8de5-4236-899c-ff0fa1b7fe8f",
   "metadata": {},
   "outputs": [],
   "source": [
    "class MultiHeadAttention(nn.Module):\n",
    "    def __init__(self, d_model, nhead, dropout = 0.1):\n",
    "        super(MultiHeadAttention, self).__init__()\n",
    "\n",
    "        self.d_model = d_model\n",
    "        self.nhead = nhead\n",
    "        self.d_k = d_model // nhead\n",
    "        self.d_v = d_model // nhead\n",
    "\n",
    "        self.linear_q = nn.Linear(d_model, d_model)\n",
    "        self.linear_k = nn.Linear(d_model, d_model)\n",
    "        self.linear_v = nn.Linear(d_model, d_model)\n",
    "\n",
    "        self.scaled_dot_prod_attention = ScaledDotProdAttention(dropout)\n",
    "\n",
    "        self.linear_layer = nn.Linear(d_model, d_model)\n",
    "\n",
    "        self.dropout = nn.Dropout(dropout)\n",
    "\n",
    "\n",
    "    def forward(self, query, key, value, mask = None, key_padding = None):\n",
    "\n",
    "        batch_size =  query.size(0)\n",
    "\n",
    "        query = self.linear_q(query).view(batch_size, -1, self.nhead, self.d_k).transpose(1,2)\n",
    "        key = self.linear_k(key).view(batch_size, -1, self.nhead, self.d_k).transpose(1,2)\n",
    "        value = self.linear_v(value).view(batch_size, -1, self.nhead, self.d_v).transpose(1,2)\n",
    "\n",
    "        output, attention_scores = self.scaled_dot_prod_attention(query, key, value)\n",
    "\n",
    "        output_concat = output.transpose(1,2).contiguous().view(batch_size, -1, self.d_model)\n",
    "\n",
    "        output_concat = self.linear_layer(output_concat)\n",
    "\n",
    "        return self.dropout(output_concat)\n"
   ]
  },
  {
   "cell_type": "code",
   "execution_count": 4,
   "id": "230c9a69-d3ff-4c67-b862-2591608888ad",
   "metadata": {},
   "outputs": [],
   "source": [
    "class PositionalEncoding(nn.Module):\n",
    "    def __init__(self, d_model, dropout = 0.1, max_len = 100):\n",
    "        super(PositionalEncoding, self).__init__()\n",
    "\n",
    "        self.dropout = nn.Dropout(dropout)\n",
    "        pe = torch.zeros(max_len, d_model)\n",
    "        position = torch.arange(0, max_len, dtype = torch.float ).unsqueeze(1)\n",
    "        div_term = torch.exp(torch.arange(0, d_model, 2).float() * -(torch.log(torch.tensor(10000.0)) / d_model))\n",
    "\n",
    "        pe[:, 0::2] = torch.sin(position * div_term)\n",
    "        pe[:, 1::2] = torch.cos(position * div_term)\n",
    "        pe = pe.unsqueeze(0).transpose(0,1)\n",
    "        self.register_buffer('pe', pe) # to not change these values while training\n",
    "\n",
    "    def forward(self, x):\n",
    "        x = x + self.pe[:x.size(0), :]\n",
    "        return self.dropout(x)\n",
    "        "
   ]
  },
  {
   "cell_type": "code",
   "execution_count": null,
   "id": "fe082512-dd8a-4e90-bf0b-126e820a9561",
   "metadata": {},
   "outputs": [],
   "source": []
  }
 ],
 "metadata": {
  "kernelspec": {
   "display_name": "forklift",
   "language": "python",
   "name": "forklift"
  },
  "language_info": {
   "codemirror_mode": {
    "name": "ipython",
    "version": 3
   },
   "file_extension": ".py",
   "mimetype": "text/x-python",
   "name": "python",
   "nbconvert_exporter": "python",
   "pygments_lexer": "ipython3",
   "version": "3.9.19"
  }
 },
 "nbformat": 4,
 "nbformat_minor": 5
}
